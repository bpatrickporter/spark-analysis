{
 "cells": [
  {
   "cell_type": "markdown",
   "id": "1d8bb35a",
   "metadata": {},
   "source": [
    "# Best Post Award\n",
    "#### Approach:\n",
    "We'll choose election day 2008.\n",
    "\n",
    "November 4, 2008 (in epochs range = 1225774800 - 1225861199)\n",
    "### Results:\n",
    "\n",
    "### Top Comment: \n",
    "> \"Dear Rest of The World\\n\\nWe didn't fuck it up\\n\\nSigned,\\n\\nAmerica\"\n",
    ">\n",
    "> -- <cite>[deleted]</cite>\n",
    "\n",
    "\n",
    "Since this author is deleted we'll use the second most upvoted comment\n",
    "### Next Comment:\n",
    "> 'Dear America,\\n\\nCongrats!\\n\\nRegards,\\nRest of the World'\n",
    ">\n",
    "> -- <cite>rockus</cite>\n",
    "\n",
    "Top comment comes from user 'rockus.' Let's find their top 3 comments."
   ]
  },
  {
   "cell_type": "code",
   "execution_count": 11,
   "id": "7d13b0e0",
   "metadata": {
    "scrolled": true
   },
   "outputs": [],
   "source": [
    "df = spark.read.json('hdfs://orion11:25001/RC_2008-11.bz2')"
   ]
  },
  {
   "cell_type": "code",
   "execution_count": 13,
   "id": "61012ca0",
   "metadata": {
    "scrolled": true
   },
   "outputs": [],
   "source": [
    "df = df.select('author', 'body', 'created_utc', 'score', 'subreddit')"
   ]
  },
  {
   "cell_type": "code",
   "execution_count": 18,
   "id": "3c85595c",
   "metadata": {
    "scrolled": true
   },
   "outputs": [
    {
     "data": {
      "text/plain": [
       "792310"
      ]
     },
     "execution_count": 18,
     "metadata": {},
     "output_type": "execute_result"
    }
   ],
   "source": [
    "df.count()"
   ]
  },
  {
   "cell_type": "code",
   "execution_count": 27,
   "id": "d62d6378",
   "metadata": {
    "scrolled": true
   },
   "outputs": [
    {
     "data": {
      "text/plain": [
       "[Row(author='[deleted]', body=\"Dear Rest of The World\\n\\nWe didn't fuck it up\\n\\nSigned,\\n\\nAmerica\", created_utc='1225858444', score=2108, subreddit='politics'),\n",
       " Row(author='rockus', body='Dear America,\\n\\nCongrats!\\n\\nRegards,\\nRest of the World', created_utc='1225858825', score=1143, subreddit='politics')]"
      ]
     },
     "execution_count": 27,
     "metadata": {},
     "output_type": "execute_result"
    }
   ],
   "source": [
    "top_election_day_posts = df \\\n",
    "    .filter((1225774800 <= df.created_utc) & (df.created_utc <= 1225861199)) \\\n",
    "    .sort(df.score.desc()) \\\n",
    "    .take(2)\n",
    "top_election_day_posts"
   ]
  },
  {
   "cell_type": "markdown",
   "id": "96360c05",
   "metadata": {},
   "source": [
    "---\n",
    "# Top Comments by user 'rockus'\n",
    "\n",
    "#### Approach:\n",
    "Search entire dataset for comments by user 'rockus'. Turns out this takes way too long so we'll search for this user's comments in the sample data set and circle back for a more in depth search later if time permits.\n",
    "\n",
    "#### Results:\n",
    "> \"This mess shows how far reaching is the impact of a biased intelligentsia in a country. Thwarting a consensus by ignoring proofs just because of the fear of being proved wrong. These historians  totally subvert the meaning of being a scholar. The lack of academics without overt political bias is really hurting the nation. Its either commie or a sanghi. Even if you are neither, you are branded as one or the other.\"\n",
    ">\n",
    "> -- <cite>rockus</cite>\n",
    "\n",
    "> \"That revenue itself would fund the Mars program substantially if I am not wrong.\"\n",
    ">\n",
    "> -- <cite>rockus</cite>\n",
    "\n",
    "> \"What about the livelihood of butchers and shop assistants? An additional day-off could mean that those on daily wages lose a day's pay. Also, the meat that they store in the freezer that would have been good for another day is wasted.\"\n",
    ">\n",
    "> -- <cite>rockus</cite>\n",
    "\n"
   ]
  },
  {
   "cell_type": "code",
   "execution_count": 1,
   "id": "8e532159",
   "metadata": {
    "scrolled": true
   },
   "outputs": [],
   "source": [
    "# Create list of all files so we can load files into dataframes in a loop\n",
    "list_of_files = ['RC_2005-12.bz2', \\\n",
    "                 'RC_2006-01.bz2','RC_2006-02.bz2','RC_2006-03.bz2','RC_2006-04.bz2','RC_2006-05.bz2','RC_2006-06.bz2','RC_2006-07.bz2','RC_2006-08.bz2','RC_2006-09.bz2','RC_2006-10.bz2','RC_2006-11.bz2','RC_2006-12.bz2',\\\n",
    "                 'RC_2007-01.bz2','RC_2007-02.bz2','RC_2007-03.bz2','RC_2007-04.bz2','RC_2007-05.bz2','RC_2007-06.bz2','RC_2007-07.bz2','RC_2007-08.bz2','RC_2007-09.bz2','RC_2007-10.bz2','RC_2007-11.bz2','RC_2007-12.bz2',\\\n",
    "                 'RC_2008-01.bz2','RC_2008-02.bz2','RC_2008-03.bz2','RC_2008-04.bz2','RC_2008-05.bz2','RC_2008-06.bz2','RC_2008-07.bz2','RC_2008-08.bz2','RC_2008-09.bz2','RC_2008-10.bz2','RC_2008-11.bz2','RC_2008-12.bz2',\\\n",
    "                 'RC_2009-01.bz2','RC_2009-02.bz2','RC_2009-03.bz2','RC_2009-04.bz2','RC_2009-05.bz2','RC_2009-06.bz2','RC_2009-07.bz2','RC_2009-08.bz2','RC_2009-09.bz2','RC_2009-10.bz2','RC_2009-11.bz2','RC_2009-12.bz2',\\\n",
    "                 'RC_2010-01.bz2','RC_2010-02.bz2','RC_2010-03.bz2','RC_2010-04.bz2','RC_2010-05.bz2','RC_2010-06.bz2','RC_2010-07.bz2','RC_2010-08.bz2','RC_2010-09.bz2','RC_2010-10.bz2','RC_2010-11.bz2','RC_2010-12.bz2',\\\n",
    "                 'RC_2011-01.bz2','RC_2011-02.bz2','RC_2011-03.bz2','RC_2011-04.bz2','RC_2011-05.bz2','RC_2011-06.bz2','RC_2011-07.bz2','RC_2011-08.bz2','RC_2011-09.bz2','RC_2011-10.bz2','RC_2011-11.bz2','RC_2011-12.bz2',\\\n",
    "                 'RC_2012-01.bz2','RC_2012-02.bz2','RC_2012-03.bz2','RC_2012-04.bz2','RC_2012-05.bz2','RC_2012-06.bz2','RC_2012-07.bz2','RC_2012-08.bz2','RC_2012-09.bz2','RC_2012-10.bz2','RC_2012-11.bz2','RC_2012-12.bz2',\\\n",
    "                 'RC_2013-01.bz2','RC_2013-02.bz2','RC_2013-03.bz2','RC_2013-04.bz2','RC_2013-05.bz2','RC_2013-06.bz2','RC_2013-07.bz2','RC_2013-08.bz2','RC_2013-09.bz2','RC_2013-10.bz2','RC_2013-11.bz2','RC_2013-12.bz2',\\\n",
    "                 'RC_2014-01.bz2','RC_2014-02.bz2','RC_2014-03.bz2','RC_2014-04.bz2','RC_2014-05.bz2','RC_2014-06.bz2','RC_2014-07.bz2','RC_2014-08.bz2','RC_2014-09.bz2','RC_2014-10.bz2','RC_2014-11.bz2','RC_2014-12.bz2',\\\n",
    "                 'RC_2015-01.bz2','RC_2015-02.bz2','RC_2015-03.bz2','RC_2015-04.bz2','RC_2015-05.bz2','RC_2015-06.bz2','RC_2015-07.bz2','RC_2015-08.bz2','RC_2015-09.bz2','RC_2015-10.bz2','RC_2015-11.bz2','RC_2015-12.bz2',\\\n",
    "                 'RC_2016-01.bz2','RC_2016-02.bz2','RC_2016-03.bz2','RC_2016-04.bz2','RC_2016-05.bz2','RC_2016-06.bz2','RC_2016-07.bz2','RC_2016-08.bz2','RC_2016-09.bz2','RC_2016-10.bz2','RC_2016-11.bz2','RC_2016-12.bz2',\\\n",
    "                 'RC_2017-01.bz2','RC_2017-02.bz2','RC_2017-03.bz2',\\\n",
    "                 'RES-RC_2018-01.zst','RES-RC_2018-02.zst','RES-RC_2018-03.zst','RES-RC_2018-04.zst','RES-RC_2018-05.zst','RES-RC_2018-06.zst','RES-RC_2018-07.zst','RES-RC_2018-08.zst','RES-RC_2018-09.zst','RES-RC_2018-10.zst','RES-RC_2018-11.zst','RES-RC_2018-12.zst',\\\n",
    "                 'RES-RC_2019-01.zst','RES-RC_2019-02.zst','RES-RC_2019-03.zst','RES-RC_2019-04.zst','RES-RC_2019-05.zst','RES-RC_2019-06.zst','RES-RC_2019-07.zst','RES-RC_2019-08.zst','RES-RC_2019-09.zst','RES-RC_2019-10.zst','RES-RC_2019-11.zst','RES-RC_2019-12.zst',\\\n",
    "                 'RES-RC_2020-01.zst','RES-RC_2020-02.zst','RES-RC_2020-03.zst','RES-RC_2020-04.zst','RES-RC_2020-05.zst','RES-RC_2020-06.zst','RES-RC_2020-07.zst','RES-RC_2020-08.zst','RES-RC_2020-09.zst','RES-RC_2020-10.zst','RES-RC_2020-11.zst','RES-RC_2020-12.zst']"
   ]
  },
  {
   "cell_type": "code",
   "execution_count": 15,
   "id": "dfaacbbd",
   "metadata": {
    "scrolled": false
   },
   "outputs": [
    {
     "name": "stdout",
     "output_type": "stream",
     "text": [
      "RC_2008-08.bz2: 3\n",
      "Score: 6\n",
      "Score: 1\n",
      "Score: 1\n",
      "RC_2008-09.bz2: 2\n",
      "Score: 3\n",
      "Score: -1\n",
      "RC_2008-10.bz2: 2\n",
      "Score: 21\n",
      "Score: 3\n"
     ]
    }
   ],
   "source": [
    "for file in list_of_files[30:35]:\n",
    "    search_for_rockus_df = spark.read.json('hdfs://orion11:25001/' + file)\n",
    "    rockus_posts = search_for_rockus_df.filter(search_for_rockus_df.author == 'rockus')\\\n",
    "                                       .select('author', 'body', 'created_utc', 'score', 'subreddit')\n",
    "    if rockus_posts.count() > 0:\n",
    "        print(file + \": \" + str(rockus_posts.count()))\n",
    "        for post in rockus_posts.sort(rockus_posts.score.desc()).take(3):\n",
    "            print(\"Score: \" + str(post.score))\n"
   ]
  },
  {
   "cell_type": "markdown",
   "id": "11a10bae",
   "metadata": {},
   "source": [
    "### This takes an insane amount of time. Let's try on the sample data.."
   ]
  },
  {
   "cell_type": "code",
   "execution_count": 17,
   "id": "9a763285",
   "metadata": {
    "scrolled": true
   },
   "outputs": [],
   "source": [
    "sample_df = spark.read.json('hdfs://orion11:25001/sampled_reddit_v2')"
   ]
  },
  {
   "cell_type": "code",
   "execution_count": 18,
   "id": "22227937",
   "metadata": {
    "scrolled": true
   },
   "outputs": [
    {
     "data": {
      "text/plain": [
       "30907764"
      ]
     },
     "execution_count": 18,
     "metadata": {},
     "output_type": "execute_result"
    }
   ],
   "source": [
    "sample_df.count()"
   ]
  },
  {
   "cell_type": "code",
   "execution_count": 20,
   "id": "402987c4",
   "metadata": {
    "scrolled": true
   },
   "outputs": [
    {
     "data": {
      "text/plain": [
       "[Row(author='rockus', score=15, body='This mess shows how far reaching is the impact of a biased intelligentsia in a country. Thwarting a consensus by ignoring proofs just because of the fear of being proved wrong. These historians  totally subvert the meaning of being a scholar. The lack of academics without overt political bias is really hurting the nation. Its either commie or a sanghi. Even if you are neither, you are branded as one or the other.', subreddit='india', created_utc='1453367323'),\n",
       " Row(author='rockus', score=11, body='That revenue itself would fund the Mars program substantially if I am not wrong.', subreddit='worldnews', created_utc='1361457235'),\n",
       " Row(author='rockus', score=9, body=\"What about the livelihood of butchers and shop assistants? An additional day-off could mean that those on daily wages lose a day's pay. Also, the meat that they store in the freezer that would have been good for another day is wasted.\", subreddit='india', created_utc='1366963617')]"
      ]
     },
     "execution_count": 20,
     "metadata": {},
     "output_type": "execute_result"
    }
   ],
   "source": [
    "rockus_posts_sample = sample_df.filter(sample_df.author == 'rockus')\\\n",
    "                               .select('author', 'score', 'body', 'subreddit', 'created_utc')\\\n",
    "                               .sort(sample_df.score.desc())\\\n",
    "                               .take(3)\n",
    "rockus_posts_sample"
   ]
  },
  {
   "cell_type": "markdown",
   "id": "b14ba77c",
   "metadata": {},
   "source": [
    "-----\n",
    "# Subreddit Growth\n",
    "#### Approach:\n",
    "Our approach for this is going to be to search for all of the subreddits that were posted to on the first day of the year and all of the subreddits that were posted to on the last day of the year. For the purposes of this search we're considering any subreddit that doesn't get a single comment in that 24hr period as 'inactive' and we're ignoring it. \n",
    "\n",
    "Jan 1, 12:00:00AM - Jan 1, 11:59:59PM -> to epochs 1577836800 - 1577923199\n",
    "\n",
    "Dec 31, 12:00:00AM - Dec 31, 11:59:59PM -> to epochs 1609372800 - 1609459199\n",
    "\n",
    "#### Results:\n",
    "Total  active subreddits:\n",
    "\n",
    "    - Beginning of Year: 18,065\n",
    "    - End of Year      : 24,201"
   ]
  },
  {
   "cell_type": "code",
   "execution_count": 24,
   "id": "702040af",
   "metadata": {
    "scrolled": true
   },
   "outputs": [],
   "source": [
    "beg_2020_df = spark.read.json('hdfs://orion11:25001/RES-RC_2020-01.zst')\n",
    "end_2020_df = spark.read.json('hdfs://orion11:25001/RES-RC_2020-12.zst')"
   ]
  },
  {
   "cell_type": "code",
   "execution_count": 32,
   "id": "118dffc0",
   "metadata": {
    "scrolled": true
   },
   "outputs": [
    {
     "data": {
      "text/plain": [
       "0"
      ]
     },
     "execution_count": 32,
     "metadata": {},
     "output_type": "execute_result"
    }
   ],
   "source": [
    "# Confirm that we don't have any posts from prior to Jan 1 12:00:00AM\n",
    "beg_2020_df.filter(beg_2020_df.created_utc < 1577836800).count()"
   ]
  },
  {
   "cell_type": "code",
   "execution_count": 43,
   "id": "51cc5785",
   "metadata": {
    "scrolled": true
   },
   "outputs": [
    {
     "data": {
      "text/plain": [
       "278807"
      ]
     },
     "execution_count": 43,
     "metadata": {},
     "output_type": "execute_result"
    }
   ],
   "source": [
    "# Count number of comments on Jan 1, 2020\n",
    "first_day_df = beg_2020_df.filter(beg_2020_df.created_utc < 1577923199)\n",
    "first_day_df.count()"
   ]
  },
  {
   "cell_type": "code",
   "execution_count": 34,
   "id": "d912e23d",
   "metadata": {
    "scrolled": false
   },
   "outputs": [
    {
     "data": {
      "text/plain": [
       "0"
      ]
     },
     "execution_count": 34,
     "metadata": {},
     "output_type": "execute_result"
    }
   ],
   "source": [
    "# Confirm we don't have any posts from after Dec 31 11:59:59PM\n",
    "end_2020_df.filter(end_2020_df.created_utc > 1609459199).count()"
   ]
  },
  {
   "cell_type": "code",
   "execution_count": 41,
   "id": "b11ca4ad",
   "metadata": {
    "scrolled": true
   },
   "outputs": [
    {
     "data": {
      "text/plain": [
       "320654"
      ]
     },
     "execution_count": 41,
     "metadata": {},
     "output_type": "execute_result"
    }
   ],
   "source": [
    "# Count number of comments on Dec 31, 2020\n",
    "last_day_df = end_2020_df.filter(end_2020_df.created_utc > 1609372800)\n",
    "last_day_df.count()"
   ]
  },
  {
   "cell_type": "code",
   "execution_count": 44,
   "id": "5fbb1642",
   "metadata": {
    "scrolled": true
   },
   "outputs": [
    {
     "data": {
      "text/plain": [
       "18065"
      ]
     },
     "execution_count": 44,
     "metadata": {},
     "output_type": "execute_result"
    }
   ],
   "source": [
    "# Count unique subreddits from first day of the year\n",
    "first_day_df.select('subreddit').distinct().count()"
   ]
  },
  {
   "cell_type": "code",
   "execution_count": 45,
   "id": "e66008ba",
   "metadata": {
    "scrolled": true
   },
   "outputs": [
    {
     "data": {
      "text/plain": [
       "24201"
      ]
     },
     "execution_count": 45,
     "metadata": {},
     "output_type": "execute_result"
    }
   ],
   "source": [
    "# Count unique subreddits from last day of the year\n",
    "last_day_df.select('subreddit').distinct().count()"
   ]
  },
  {
   "cell_type": "markdown",
   "id": "7bd7f688",
   "metadata": {},
   "source": [
    "---\n",
    "# Busiest Months\n",
    "\n",
    "#### Approach: \n",
    "We'll sample 5 years worth of posts--this should be sufficient. 2006 - 2010\n",
    "\n",
    "#### Results:\n",
    "See graph below. I may not have understood the best way to normalize these results because I don't see a clear way to tell what month gets the most posts other than to say later months always get more posts but this is obvious because the site is growing."
   ]
  },
  {
   "cell_type": "code",
   "execution_count": 27,
   "id": "7ecfae92",
   "metadata": {
    "scrolled": false
   },
   "outputs": [],
   "source": [
    "month_to_posts = []\n",
    "\n",
    "for file in list_of_files[1:61]:\n",
    "    busy_df = spark.read.json('hdfs://orion11:25001/' + file)\n",
    "    count = busy_df.count()\n",
    "    month_to_posts.append([file[3:-4], count])"
   ]
  },
  {
   "cell_type": "code",
   "execution_count": 92,
   "id": "00547c6c",
   "metadata": {
    "scrolled": false
   },
   "outputs": [],
   "source": [
    "import pandas as pd\n",
    "posts_2006 = pd.DataFrame(month_to_posts[:12], columns = ['Month', 'Comments'])\n",
    "posts_2007 = pd.DataFrame(month_to_posts[12:24], columns = ['Month', 'Comments'])\n",
    "posts_2008 = pd.DataFrame(month_to_posts[24:36], columns = ['Month', 'Comments'])\n",
    "posts_2009 = pd.DataFrame(month_to_posts[36:48], columns = ['Month', 'Comments'])\n",
    "posts_2010 = pd.DataFrame(month_to_posts[48:60], columns = ['Month', 'Comments'])"
   ]
  },
  {
   "cell_type": "code",
   "execution_count": 108,
   "id": "7838ab1a",
   "metadata": {
    "scrolled": false
   },
   "outputs": [],
   "source": [
    "from sklearn.preprocessing import MinMaxScaler\n",
    "scaler = MinMaxScaler()\n",
    "posts_2006['Comments Normalized'] = scaler.fit_transform(posts_2006[['Comments']])\n",
    "posts_2007['Comments Normalized'] = scaler.fit_transform(posts_2007[['Comments']])\n",
    "posts_2008['Comments Normalized'] = scaler.fit_transform(posts_2008[['Comments']])\n",
    "posts_2009['Comments Normalized'] = scaler.fit_transform(posts_2009[['Comments']])\n",
    "posts_2010['Comments Normalized'] = scaler.fit_transform(posts_2010[['Comments']])"
   ]
  },
  {
   "cell_type": "code",
   "execution_count": 113,
   "id": "ed22c0a4",
   "metadata": {
    "scrolled": false
   },
   "outputs": [
    {
     "data": {
      "text/plain": [
       "[<matplotlib.lines.Line2D at 0x7fd82c7b3370>]"
      ]
     },
     "execution_count": 113,
     "metadata": {},
     "output_type": "execute_result"
    },
    {
     "data": {
      "image/png": "[encoded data removed]",
      "text/plain": [
       "<Figure size 432x288 with 1 Axes>"
      ]
     },
     "metadata": {
      "needs_background": "light"
     },
     "output_type": "display_data"
    }
   ],
   "source": [
    "import matplotlib.pyplot as plt\n",
    "plt.title(\"Reddit Comments Per Month 2006-2010 (Normalized By Year)\")\n",
    "plt.ylabel(\"Comments Normalized\")\n",
    "plt.xlabel(\"Months\")\n",
    "plt.plot(posts_2006['Month'], posts_2006['Comments Normalized'])\n",
    "plt.plot(posts_2007['Month'], posts_2007['Comments Normalized'])\n",
    "plt.plot(posts_2008['Month'], posts_2008['Comments Normalized'])\n",
    "plt.plot(posts_2009['Month'], posts_2009['Comments Normalized'])\n",
    "plt.plot(posts_2010['Month'], posts_2010['Comments Normalized'])\n"
   ]
  },
  {
   "cell_type": "markdown",
   "id": "398cfec7",
   "metadata": {},
   "source": [
    "---\n",
    "# Readability\n",
    "#### Approach: We'll compare /r/karate and /r/jiujitsu for readability using the sample data set.\n",
    "#### Results: See graphs below.\n",
    "We don't see a clear winner in the battle of \"Who is smarter? bjj vs karate.\"\n",
    "### /r/karate vs /r/jiujitsu"
   ]
  },
  {
   "cell_type": "code",
   "execution_count": 39,
   "id": "2f19038e",
   "metadata": {
    "scrolled": true
   },
   "outputs": [
    {
     "data": {
      "text/plain": [
       "'0.4 36.62 8.4'"
      ]
     },
     "execution_count": 39,
     "metadata": {},
     "output_type": "execute_result"
    }
   ],
   "source": [
    "# Define our readability function\n",
    "import textstat\n",
    "\n",
    "def check_readability(text):\n",
    "    gf_index = textstat.gunning_fog(text)\n",
    "    reading_ease = textstat.flesch_reading_ease(text)\n",
    "    grade_level = textstat.flesch_kincaid_grade(text)\n",
    "    return str(gf_index) + \" \" + str(reading_ease) + \" \" + str(grade_level)"
   ]
  },
  {
   "cell_type": "code",
   "execution_count": 2,
   "id": "c8d86c8d",
   "metadata": {
    "scrolled": false
   },
   "outputs": [],
   "source": [
    "readability_df = spark.read.json('hdfs://orion11:25001/sampled_reddit_v2')"
   ]
  },
  {
   "cell_type": "code",
   "execution_count": 77,
   "id": "a0b6ae7f",
   "metadata": {
    "scrolled": false
   },
   "outputs": [],
   "source": [
    "# Filter for our subreddit and calculate readability\n",
    "from pyspark.sql.functions import udf\n",
    "from pyspark.sql.functions import col\n",
    "check_readability_udf = udf(check_readability)\n",
    "karate_scores = readability_df.filter(readability_df.subreddit == 'karate').withColumn(\"Readability\", check_readability_udf(col(\"body\"))).select('Readability').collect()\n",
    "bjj_scores = readability_df.filter(readability_df.subreddit == 'bjj').withColumn(\"Readability\", check_readability_udf(col(\"body\"))).select('Readability').collect()"
   ]
  },
  {
   "cell_type": "code",
   "execution_count": 78,
   "id": "9b79fd03",
   "metadata": {
    "scrolled": true
   },
   "outputs": [],
   "source": [
    "# Convert readability scores from strings to floats. Throw out entries that are out of standard range.\n",
    "karate_readability_scores = []\n",
    "bjj_readability_scores = []\n",
    "for row in karate_scores:\n",
    "    nums = row.Readability.split()\n",
    "    my_floats = []\n",
    "    for num in nums:\n",
    "       my_floats.append(float(num))\n",
    "    if my_floats[0] > 20 or my_floats[0] < 0:\n",
    "        continue\n",
    "    if my_floats[1] > 100 or my_floats[1] < 0:\n",
    "        continue\n",
    "    if my_floats[2] > 18 or my_floats[2] < 0:\n",
    "        continue\n",
    "    karate_readability_scores.append(my_floats)\n",
    "for row in bjj_scores:\n",
    "    nums = row.Readability.split()\n",
    "    my_floats = []\n",
    "    for num in nums:\n",
    "       my_floats.append(float(num))\n",
    "    if my_floats[0] > 20 or my_floats[0] < 0:\n",
    "        continue\n",
    "    if my_floats[1] > 100 or my_floats[1] < 0:\n",
    "        continue\n",
    "    if my_floats[2] > 18 or my_floats[2] < 0:\n",
    "        continue\n",
    "    bjj_readability_scores.append(my_floats)"
   ]
  },
  {
   "cell_type": "code",
   "execution_count": 79,
   "id": "0d4ccd79",
   "metadata": {
    "scrolled": false
   },
   "outputs": [],
   "source": [
    "# Convert lists to DataFrames\n",
    "import pandas as pd\n",
    "karate_df = pd.DataFrame(karate_readability_scores, columns= ['Gunning Fog', 'Reading Ease', 'Flesch Kincaid Grade'])\n",
    "bjj_df = pd.DataFrame(bjj_readability_scores, columns= ['Gunning Fog', 'Reading Ease', 'Flesch Kincaid Grade'])"
   ]
  },
  {
   "cell_type": "code",
   "execution_count": 80,
   "id": "b477c6d2",
   "metadata": {
    "scrolled": false
   },
   "outputs": [
    {
     "data": {
      "text/plain": [
       "Text(0.5, 1.0, 'Gunning Fog Index')"
      ]
     },
     "execution_count": 80,
     "metadata": {},
     "output_type": "execute_result"
    },
    {
     "data": {
      "image/png": "[encoded data removed]",
      "text/plain": [
       "<Figure size 432x288 with 1 Axes>"
      ]
     },
     "metadata": {
      "needs_background": "light"
     },
     "output_type": "display_data"
    }
   ],
   "source": [
    "plt.hist([karate_df['Gunning Fog'], bjj_df['Gunning Fog']], label=['/r/karate', '/r/bjj'], density=True)\n",
    "plt.xlabel('Grade Level')\n",
    "plt.ylabel('%')\n",
    "plt.legend()\n",
    "plt.title('Gunning Fog Index')"
   ]
  },
  {
   "cell_type": "code",
   "execution_count": 81,
   "id": "83f9fb3a",
   "metadata": {
    "scrolled": false
   },
   "outputs": [
    {
     "data": {
      "text/plain": [
       "Text(0.5, 1.0, 'Reading Ease')"
      ]
     },
     "execution_count": 81,
     "metadata": {},
     "output_type": "execute_result"
    },
    {
     "data": {
      "image/png": "[encoded data removed]",
      "text/plain": [
       "<Figure size 432x288 with 1 Axes>"
      ]
     },
     "metadata": {
      "needs_background": "light"
     },
     "output_type": "display_data"
    }
   ],
   "source": [
    "plt.hist([karate_df['Reading Ease'], bjj_df['Reading Ease']], label=['/r/karate', '/r/bjj'], density=True)\n",
    "plt.xlabel('Reading Ease')\n",
    "plt.ylabel('%')\n",
    "plt.legend()\n",
    "plt.title('Reading Ease')"
   ]
  },
  {
   "cell_type": "code",
   "execution_count": 82,
   "id": "af8bcc6c",
   "metadata": {
    "scrolled": false
   },
   "outputs": [
    {
     "data": {
      "text/plain": [
       "Text(0.5, 1.0, 'Flesch Kincaid Grade')"
      ]
     },
     "execution_count": 82,
     "metadata": {},
     "output_type": "execute_result"
    },
    {
     "data": {
      "image/png": "[encoded data removed]",
      "text/plain": [
       "<Figure size 432x288 with 1 Axes>"
      ]
     },
     "metadata": {
      "needs_background": "light"
     },
     "output_type": "display_data"
    }
   ],
   "source": [
    "plt.hist([karate_df['Flesch Kincaid Grade'], bjj_df['Flesch Kincaid Grade']], label=['/r/karate', '/r/bjj'], density=True)\n",
    "plt.xlabel('Grade')\n",
    "plt.ylabel('%')\n",
    "plt.legend()\n",
    "plt.title('Flesch Kincaid Grade')"
   ]
  },
  {
   "cell_type": "markdown",
   "id": "302744ab",
   "metadata": {},
   "source": [
    "---\n",
    "# Toxicity\n",
    "#### Approach: \n",
    "Follow same approach as with readability."
   ]
  },
  {
   "cell_type": "code",
   "execution_count": 8,
   "id": "43f987a4",
   "metadata": {
    "scrolled": false
   },
   "outputs": [],
   "source": [
    "from pyspark.sql.functions import udf\n",
    "from pyspark.sql.functions import col\n",
    "from textblob import TextBlob\n",
    "def analyze_sentiment(text):\n",
    "    blob = TextBlob(text)\n",
    "    polarity = blob.sentiment.polarity\n",
    "    subjectivity = blob.sentiment.subjectivity\n",
    "    return str(polarity) + \" \" + str(subjectivity)\n",
    "analyze_sentiment_udf = udf(analyze_sentiment)"
   ]
  },
  {
   "cell_type": "code",
   "execution_count": 86,
   "id": "45a97a3d",
   "metadata": {
    "scrolled": false
   },
   "outputs": [],
   "source": [
    "# Filter for our subreddit and calculate sentiment\n",
    "yoga_scores = readability_df.filter(readability_df.subreddit == 'yoga').withColumn(\"Sentiment\", analyze_sentiment_udf(col(\"body\"))).select('Sentiment').collect()\n",
    "anarchism_scores = readability_df.filter(readability_df.subreddit == 'Anarchism').withColumn(\"Sentiment\", analyze_sentiment_udf(col(\"body\"))).select('Sentiment').collect()"
   ]
  },
  {
   "cell_type": "code",
   "execution_count": 94,
   "id": "fe34ad20",
   "metadata": {
    "scrolled": false
   },
   "outputs": [],
   "source": [
    "# Convert sentiment scores from strings to floats. \n",
    "yoga_sentiment_scores = []\n",
    "anarchism_sentiment_scores = []\n",
    "for row in yoga_scores:\n",
    "    nums = row.Sentiment.split()\n",
    "    my_floats = []\n",
    "    for num in nums:\n",
    "       my_floats.append(float(num))\n",
    "    yoga_sentiment_scores.append(my_floats)\n",
    "for row in anarchism_scores:\n",
    "    nums = row.Sentiment.split()\n",
    "    my_floats = []\n",
    "    for num in nums:\n",
    "       my_floats.append(float(num))\n",
    "    anarchism_sentiment_scores.append(my_floats)"
   ]
  },
  {
   "cell_type": "code",
   "execution_count": 95,
   "id": "d31f7220",
   "metadata": {
    "scrolled": false
   },
   "outputs": [],
   "source": [
    "# Convert lists to DataFrames\n",
    "yoga_df = pd.DataFrame(yoga_sentiment_scores, columns= ['Polarity', 'Subjectivity'])\n",
    "anarchism_df = pd.DataFrame(anarchism_sentiment_scores, columns= ['Polarity', 'Subjectivity'])"
   ]
  },
  {
   "cell_type": "code",
   "execution_count": 101,
   "id": "ec1ff527",
   "metadata": {
    "scrolled": false
   },
   "outputs": [
    {
     "data": {
      "text/plain": [
       "Text(0.5, 1.0, '/r/yoga vs /r/Anarchism Polarity')"
      ]
     },
     "execution_count": 101,
     "metadata": {},
     "output_type": "execute_result"
    },
    {
     "data": {
      "image/png": "[encoded data removed]",
      "text/plain": [
       "<Figure size 432x288 with 1 Axes>"
      ]
     },
     "metadata": {
      "needs_background": "light"
     },
     "output_type": "display_data"
    }
   ],
   "source": [
    "plt.hist([yoga_df['Polarity'], anarchism_df['Polarity']], label=['/r/yoga', '/r/Anarchism'], density=True)\n",
    "plt.xlabel('Polarity Rating')\n",
    "plt.ylabel('%')\n",
    "plt.legend()\n",
    "plt.title('/r/yoga vs /r/Anarchism Polarity')"
   ]
  },
  {
   "cell_type": "code",
   "execution_count": 102,
   "id": "6a7d949e",
   "metadata": {
    "scrolled": false
   },
   "outputs": [
    {
     "data": {
      "text/plain": [
       "Text(0.5, 1.0, '/r/yoga vs /r/Anarchism Subjectivity')"
      ]
     },
     "execution_count": 102,
     "metadata": {},
     "output_type": "execute_result"
    },
    {
     "data": {
      "image/png": "[encoded data removed]",
      "text/plain": [
       "<Figure size 432x288 with 1 Axes>"
      ]
     },
     "metadata": {
      "needs_background": "light"
     },
     "output_type": "display_data"
    }
   ],
   "source": [
    "plt.hist([yoga_df['Subjectivity'], anarchism_df['Subjectivity']], label=['/r/yoga', '/r/Anarchism'], density=True)\n",
    "plt.xlabel('Subjectivity Rating')\n",
    "plt.ylabel('%')\n",
    "plt.legend()\n",
    "plt.title('/r/yoga vs /r/Anarchism Subjectivity')"
   ]
  },
  {
   "cell_type": "markdown",
   "id": "c9590db2",
   "metadata": {},
   "source": [
    "---\n",
    "# Targeted Advertising\n",
    "#### Approach:\n",
    "One thing that would be useful in finding a user's interests might be returning all of the distinct subreddits that they're active in."
   ]
  },
  {
   "cell_type": "code",
   "execution_count": 103,
   "id": "59de22da",
   "metadata": {
    "scrolled": true
   },
   "outputs": [],
   "source": [
    "sample_df = spark.read.json('hdfs://orion11:25001/sampled_reddit_v2')"
   ]
  },
  {
   "cell_type": "code",
   "execution_count": 106,
   "id": "44878ed4",
   "metadata": {},
   "outputs": [
    {
     "data": {
      "text/plain": [
       "[Row(subreddit='AskReddit'),\n",
       " Row(subreddit='reddit.com'),\n",
       " Row(subreddit='worldnews'),\n",
       " Row(subreddit='science'),\n",
       " Row(subreddit='Christianity'),\n",
       " Row(subreddit='blog'),\n",
       " Row(subreddit='SuicideWatch'),\n",
       " Row(subreddit='redditoroftheday'),\n",
       " Row(subreddit='funny')]"
      ]
     },
     "execution_count": 106,
     "metadata": {},
     "output_type": "execute_result"
    }
   ],
   "source": [
    "sample_df.filter(sample_df.author == 'maxwellhill').select('subreddit').distinct().collect()"
   ]
  },
  {
   "cell_type": "markdown",
   "id": "e558b895",
   "metadata": {},
   "source": [
    "---\n",
    "# COVID-19 Origin\n",
    "#### Approach:\n",
    "First day of lockdown in SF was 3/17/2020. Start from this day and go backwards searching for posts mentioning covid until we don't find any. Index of RES-RC_2020-03.zst in list_of_files is 162 so we'll start here and go back.\n",
    "\n",
    "#### Results:\n",
    " - Mar 2020 (Index 162) - Found covid posts\n",
    " - Jan 2020 (Index 160) - Found covid posts\n",
    " - Dec 2019 (Inded 159) - Found NO covid posts\n",
    " \n",
    "Now we did deeper into Jan 2020 to see when the first covid comment was. We find there were comments going back to Jan 9 but there were no comments before Jan 7. So we filter for all comments before Jan 9 and sort by comment date and return the oldest. \n",
    "\n",
    "### First Covid Comment:\n",
    "\n",
    "> \"# *China virus*\"\n",
    ">\n",
    "> -- <cite>MrWafflesNBacon</cite>  \n",
    ">  January 7, 2020 12:11:15 PM GMT"
   ]
  },
  {
   "cell_type": "code",
   "execution_count": 57,
   "id": "5b2cabfd",
   "metadata": {
    "scrolled": true
   },
   "outputs": [],
   "source": [
    "from pyspark.sql.functions import lower\n",
    "string_list = ['covid-19', 'corona virus', 'sars-cov','wuhan virus', 'chinese virus', 'china virus']"
   ]
  },
  {
   "cell_type": "code",
   "execution_count": 49,
   "id": "3ac65bff",
   "metadata": {
    "scrolled": true
   },
   "outputs": [
    {
     "data": {
      "text/plain": [
       "[Row(body='Plus, we cant compare movies with real life. If it was the other way around, if the Wuhan virus started in Manila, I am quite sure China would close its doors to us without batting an eyelash, no doubt about it.'),\n",
       " Row(body='Corona virus gone digital now..RIP'),\n",
       " Row(body='every chinese person: why did god give us the corona virus.\\n\\nalso every chinese person'),\n",
       " Row(body='The irony of having the flu while writing all this. I felt like crap for the past few days, tried to avoid coughing in stores. Better today.\\n\\nThere was a well off looking older guy in a shopping center that sneezed and then loudly declared “Heh-heh corona virus!” I almost died xD'),\n",
       " Row(body='If Tony gets yanked, Corona virus is probably one of the most plausible paths to disaster')]"
      ]
     },
     "execution_count": 49,
     "metadata": {},
     "output_type": "execute_result"
    }
   ],
   "source": [
    "search_df = spark.read.json('hdfs://orion11:25001/' + list_of_files[160])\n",
    "results_df = search_df.filter(lower(search_df.body).rlike('|'.join(string_list)))\\\n",
    "                      .sort(search_df.created_utc.desc())\n",
    "results_df.take(5)"
   ]
  },
  {
   "cell_type": "code",
   "execution_count": 61,
   "id": "e7960d44",
   "metadata": {
    "scrolled": true
   },
   "outputs": [
    {
     "data": {
      "text/plain": [
       "[Row(author='MrWafflesNBacon', body='# *China virus*', created_utc=1578399075, subreddit='insaneparents', score=15, permalink='/r/insaneparents/comments/el2ods/not_directly_about_parenting_but_i_thought_this/fdgj9sr/')]"
      ]
     },
     "execution_count": 61,
     "metadata": {},
     "output_type": "execute_result"
    }
   ],
   "source": [
    "results_df = search_df.filter(search_df.created_utc < 1578614343)\\\n",
    "                      .filter(lower(search_df.body).rlike('|'.join(string_list)))\\\n",
    "                      .sort(search_df.created_utc)\\\n",
    "                      .select('author', 'body', 'created_utc', 'subreddit', 'score', 'permalink')\n",
    "results_df.take(1)"
   ]
  },
  {
   "cell_type": "markdown",
   "id": "cc8ca6fd",
   "metadata": {},
   "source": [
    "---\n",
    "# COVID-19 Attitudes\n",
    "#### Approach: \n",
    "\n",
    "We'll track how sentiment in COVID comments changed in the three months after SF started it's lockdown. "
   ]
  },
  {
   "cell_type": "code",
   "execution_count": 4,
   "id": "e0e88c6b",
   "metadata": {},
   "outputs": [],
   "source": [
    "from pyspark.sql.functions import lower\n",
    "string_list = ['covid-19', 'corona virus', 'sars-cov','wuhan virus', 'chinese virus', 'china virus']"
   ]
  },
  {
   "cell_type": "code",
   "execution_count": 3,
   "id": "762cede3",
   "metadata": {},
   "outputs": [],
   "source": [
    "df = spark.read.json('hdfs://orion11:25001/' + list_of_files[163])"
   ]
  },
  {
   "cell_type": "code",
   "execution_count": 9,
   "id": "2eaab800",
   "metadata": {},
   "outputs": [],
   "source": [
    "april_results = df.filter(lower(df.body).rlike('|'.join(string_list))).withColumn(\"Sentiment\", analyze_sentiment_udf(col(\"body\"))).select('Sentiment').collect()"
   ]
  },
  {
   "cell_type": "code",
   "execution_count": 11,
   "id": "cc700b0f",
   "metadata": {},
   "outputs": [],
   "source": [
    "import pandas as pd\n",
    "april_sentiment_scores = []\n",
    "for row in april_results:\n",
    "    nums = row.Sentiment.split()\n",
    "    my_floats = []\n",
    "    for num in nums:\n",
    "       my_floats.append(float(num))\n",
    "    april_sentiment_scores.append(my_floats)\n",
    "april_df = pd.DataFrame(april_sentiment_scores, columns= ['Polarity', 'Subjectivity'])"
   ]
  },
  {
   "cell_type": "code",
   "execution_count": 15,
   "id": "f79b0af3",
   "metadata": {},
   "outputs": [],
   "source": [
    "df2 = spark.read.json('hdfs://orion11:25001/' + list_of_files[164])"
   ]
  },
  {
   "cell_type": "code",
   "execution_count": 16,
   "id": "4dc67438",
   "metadata": {},
   "outputs": [],
   "source": [
    "may_results = df2.filter(lower(df2.body).rlike('|'.join(string_list))).withColumn(\"Sentiment\", analyze_sentiment_udf(col(\"body\"))).select('Sentiment').collect()"
   ]
  },
  {
   "cell_type": "code",
   "execution_count": 17,
   "id": "da2edd71",
   "metadata": {},
   "outputs": [],
   "source": [
    "may_sentiment_scores = []\n",
    "for row in may_results:\n",
    "    nums = row.Sentiment.split()\n",
    "    my_floats = []\n",
    "    for num in nums:\n",
    "       my_floats.append(float(num))\n",
    "    may_sentiment_scores.append(my_floats)\n",
    "may_df = pd.DataFrame(may_sentiment_scores, columns= ['Polarity', 'Subjectivity'])"
   ]
  },
  {
   "cell_type": "code",
   "execution_count": 18,
   "id": "5b9a0947",
   "metadata": {},
   "outputs": [],
   "source": [
    "df3 = spark.read.json('hdfs://orion11:25001/' + list_of_files[165])"
   ]
  },
  {
   "cell_type": "code",
   "execution_count": 23,
   "id": "7d9d460a",
   "metadata": {},
   "outputs": [],
   "source": [
    "june_results = df3.filter(lower(df3.body).rlike('|'.join(string_list))).withColumn(\"Sentiment\", analyze_sentiment_udf(col(\"body\"))).select('Sentiment').collect()"
   ]
  },
  {
   "cell_type": "code",
   "execution_count": 24,
   "id": "9e18b197",
   "metadata": {},
   "outputs": [],
   "source": [
    "june_sentiment_scores = []\n",
    "for row in may_results:\n",
    "    nums = row.Sentiment.split()\n",
    "    my_floats = []\n",
    "    for num in nums:\n",
    "       my_floats.append(float(num))\n",
    "    june_sentiment_scores.append(my_floats)\n",
    "june_df = pd.DataFrame(june_sentiment_scores, columns= ['Polarity', 'Subjectivity'])"
   ]
  },
  {
   "cell_type": "code",
   "execution_count": 26,
   "id": "9db713ef",
   "metadata": {},
   "outputs": [
    {
     "data": {
      "text/plain": [
       "Text(0.5, 1.0, 'April, May, June Covid Polarity')"
      ]
     },
     "execution_count": 26,
     "metadata": {},
     "output_type": "execute_result"
    },
    {
     "data": {
      "image/png": "[encoded data removed]",
      "text/plain": [
       "<Figure size 432x288 with 1 Axes>"
      ]
     },
     "metadata": {
      "needs_background": "light"
     },
     "output_type": "display_data"
    }
   ],
   "source": [
    "import matplotlib.pyplot as plt\n",
    "plt.hist([april_df['Polarity'], may_df['Polarity'], june_df['Polarity']], label=['April', 'May', 'June'], density=True)\n",
    "plt.xlabel('Polarity Rating')\n",
    "plt.ylabel('%')\n",
    "plt.legend()\n",
    "plt.title('April, May, June Covid Polarity')"
   ]
  },
  {
   "cell_type": "code",
   "execution_count": 27,
   "id": "9a4d3782",
   "metadata": {},
   "outputs": [
    {
     "data": {
      "text/plain": [
       "Text(0.5, 1.0, 'April, May, June Covid Subjectivity')"
      ]
     },
     "execution_count": 27,
     "metadata": {},
     "output_type": "execute_result"
    },
    {
     "data": {
      "image/png": "[encoded data removed]",
      "text/plain": [
       "<Figure size 432x288 with 1 Axes>"
      ]
     },
     "metadata": {
      "needs_background": "light"
     },
     "output_type": "display_data"
    }
   ],
   "source": [
    "plt.hist([april_df['Subjectivity'], may_df['Subjectivity'], june_df['Subjectivity']], label=['April', 'May', 'June'], density=True)\n",
    "plt.xlabel('Subjectivity Rating')\n",
    "plt.ylabel('%')\n",
    "plt.legend()\n",
    "plt.title('April, May, June Covid Subjectivity')"
   ]
  },
  {
   "cell_type": "markdown",
   "id": "1bac2161",
   "metadata": {},
   "source": [
    "---\n",
    "# Design Own Question"
   ]
  },
  {
   "cell_type": "markdown",
   "id": "8751bcee",
   "metadata": {
    "scrolled": true
   },
   "source": [
    "#### Background:\n",
    "\n",
    "A theory has recently been put forward online that Ghislaine Maxwell was behind the reddit account /u/maxwellhil, a powermod of frontpage subs, account with 8th most link karma, and first account ot reach a million Karma\n",
    "\n",
    "#### Approach: \n",
    "\n",
    "Let's see what we can find out about this user. We'll start with the sample data and see when they first started commenting and when they stopped commenting. \n",
    "\n",
    "#### Findings from Sample Set:\n",
    "\n",
    "First Post - March 29, 2006 10:27 PM GMT\n",
    "Last Post  - March 9, 2017 10:17 PM GMT\n",
    "Total Post - 13\n",
    "Subreddits - worldnews, science, christianity, blog, suicidewatch, redditoroftheday, funny\n",
    "\n",
    "#### Findings from Full Data Set:\n",
    "\n",
    "See graph below for number of comments per month from Mar 2006 - Jan 2012\n",
    "\n"
   ]
  },
  {
   "cell_type": "code",
   "execution_count": 28,
   "id": "60a2c65e",
   "metadata": {},
   "outputs": [],
   "source": [
    "sample_df = spark.read.json('hdfs://orion11:25001/sampled_reddit_v2')"
   ]
  },
  {
   "cell_type": "code",
   "execution_count": 30,
   "id": "0543c18d",
   "metadata": {},
   "outputs": [],
   "source": [
    "maxwell_posts = sample_df.filter(sample_df.author == 'maxwellhill').sort(sample_df.created_utc).collect()"
   ]
  },
  {
   "cell_type": "code",
   "execution_count": null,
   "id": "94ef038d",
   "metadata": {},
   "outputs": [],
   "source": [
    "list_of_posts = []\n",
    "for file in list_of_files[:72]:\n",
    "    df = spark.read.json('hdfs://orion11:25001/' + file)\n",
    "    posts = df.filter(df.author == 'maxwellhill').select('created_utc', 'body', 'subreddit').collect()\n",
    "    list_of_posts.append(posts)\n",
    "    print(len(posts))"
   ]
  },
  {
   "cell_type": "code",
   "execution_count": 56,
   "id": "754d2c66",
   "metadata": {},
   "outputs": [],
   "source": [
    "posts_per_month = []\n",
    "for posts in list_of_posts:\n",
    "    posts_per_month.append(len(posts))"
   ]
  },
  {
   "cell_type": "code",
   "execution_count": 65,
   "id": "fbb790ed",
   "metadata": {
    "scrolled": true
   },
   "outputs": [
    {
     "data": {
      "text/plain": [
       "['2005-12',\n",
       " '2006-01',\n",
       " '2006-02',\n",
       " '2006-03',\n",
       " '2006-04',\n",
       " '2006-05',\n",
       " '2006-06',\n",
       " '2006-07',\n",
       " '2006-08',\n",
       " '2006-09',\n",
       " '2006-10',\n",
       " '2006-11',\n",
       " '2006-12',\n",
       " '2007-01',\n",
       " '2007-02',\n",
       " '2007-03',\n",
       " '2007-04',\n",
       " '2007-05',\n",
       " '2007-06',\n",
       " '2007-07',\n",
       " '2007-08',\n",
       " '2007-09',\n",
       " '2007-10',\n",
       " '2007-11',\n",
       " '2007-12',\n",
       " '2008-01',\n",
       " '2008-02',\n",
       " '2008-03',\n",
       " '2008-04',\n",
       " '2008-05',\n",
       " '2008-06',\n",
       " '2008-07',\n",
       " '2008-08',\n",
       " '2008-09',\n",
       " '2008-10',\n",
       " '2008-11',\n",
       " '2008-12',\n",
       " '2009-01',\n",
       " '2009-02',\n",
       " '2009-03',\n",
       " '2009-04',\n",
       " '2009-05',\n",
       " '2009-06',\n",
       " '2009-07',\n",
       " '2009-08',\n",
       " '2009-09',\n",
       " '2009-10',\n",
       " '2009-11',\n",
       " '2009-12',\n",
       " '2010-01',\n",
       " '2010-02',\n",
       " '2010-03',\n",
       " '2010-04',\n",
       " '2010-05',\n",
       " '2010-06',\n",
       " '2010-07',\n",
       " '2010-08',\n",
       " '2010-09',\n",
       " '2010-10',\n",
       " '2010-11',\n",
       " '2010-12',\n",
       " '2011-01',\n",
       " '2011-02',\n",
       " '2011-03',\n",
       " '2011-04',\n",
       " '2011-05',\n",
       " '2011-06',\n",
       " '2011-07',\n",
       " '2011-08',\n",
       " '2011-09',\n",
       " '2011-10',\n",
       " '2011-11']"
      ]
     },
     "execution_count": 65,
     "metadata": {},
     "output_type": "execute_result"
    }
   ],
   "source": [
    "months = list_of_files[:72]\n",
    "months2 = []\n",
    "for month in months:\n",
    "    months2.append(month[3:10])\n",
    "months = months2\n",
    "months"
   ]
  },
  {
   "cell_type": "code",
   "execution_count": 74,
   "id": "fd86f11a",
   "metadata": {},
   "outputs": [],
   "source": [
    "posts_per_month_df = pd.DataFrame({\n",
    "    'Months': months,\n",
    "    'Posts': posts_per_month\n",
    "})"
   ]
  },
  {
   "cell_type": "code",
   "execution_count": 76,
   "id": "30be85a3",
   "metadata": {},
   "outputs": [
    {
     "data": {
      "text/plain": [
       "[<matplotlib.lines.Line2D at 0x7f32915a3970>]"
      ]
     },
     "execution_count": 76,
     "metadata": {},
     "output_type": "execute_result"
    },
    {
     "data": {
      "image/png": "[encoded data removed]",
      "text/plain": [
       "<Figure size 432x288 with 1 Axes>"
      ]
     },
     "metadata": {
      "needs_background": "light"
     },
     "output_type": "display_data"
    }
   ],
   "source": [
    "import matplotlib.pyplot as plt\n",
    "plt.title(\"/u/maxwellhill Comments Per Month 2006-2010\")\n",
    "plt.ylabel(\"Comments\")\n",
    "plt.xlabel(\"Months\")\n",
    "plt.plot(posts_per_month_df['Months'], posts_per_month_df['Posts'])"
   ]
  },
  {
   "cell_type": "markdown",
   "id": "7d6228fe",
   "metadata": {},
   "source": [
    "---\n",
    "# Personal Dataset Analysis\n",
    "\n",
    "#### Background:\n",
    "We have some lines from movies. Let's analyze it.\n",
    "\n",
    "Let's find out how many unique movies, user_ids, and user_names are included.\n",
    "\n",
    "Total Lines - 304713\n",
    "\n",
    "Total Lines After Dropping Empty Entries - 304413\n",
    "\n",
    "Distinct Movies - 617\n",
    "\n",
    "Distinct User IDs - 9035\n",
    "\n",
    "Distinct User Names - 5353\n",
    "\n",
    "#### Question:\n",
    "\n",
    "What's a Karen? Do characters named Karen speak in a way that is more polarizing than everyone else? Let's see.\n",
    "\n",
    "#### Approach: \n",
    "\n",
    "Let's run every characters lines thru sentiment analysis and see how characters named Karen compare to the average character.\n",
    "\n",
    "#### Results:\n",
    "\n",
    "Karen Average Polarity Rating: 0.033574422522060186\n",
    "\n",
    "Everyone Else Average Polarity Rating: 0.04184540409561621\n",
    "\n",
    "These scientific results clearly vindicate the Karen's of the world. They're slightly less polarizing than average."
   ]
  },
  {
   "cell_type": "code",
   "execution_count": 96,
   "id": "58cb2f19",
   "metadata": {
    "scrolled": true
   },
   "outputs": [
    {
     "data": {
      "text/plain": [
       "DataFrame[line_id: string, user_id: string, movie_id: string, user_name: string, line: string]"
      ]
     },
     "execution_count": 96,
     "metadata": {},
     "output_type": "execute_result"
    }
   ],
   "source": [
    "from pyspark.sql.types import StructType, StringType\n",
    "schema = StructType() \\\n",
    "    .add(\"line_id\", StringType(), True)\\\n",
    "    .add(\"user_id\", StringType(), True)\\\n",
    "    .add(\"movie_id\", StringType(), True)\\\n",
    "    .add(\"user_name\", StringType(), True)\\\n",
    "    .add(\"line\", StringType(), True)\n",
    "\n",
    "movie_df = spark.read.option(\"delimiter\", \" +++$+++ \").schema(schema).csv('hdfs://orion11:25001/movie_lines.txt')\n",
    "movie_df"
   ]
  },
  {
   "cell_type": "code",
   "execution_count": 102,
   "id": "190a518b",
   "metadata": {},
   "outputs": [],
   "source": [
    "num_movies = movie_df.select('movie_id').distinct().count()"
   ]
  },
  {
   "cell_type": "code",
   "execution_count": 103,
   "id": "a33fe2bc",
   "metadata": {},
   "outputs": [
    {
     "data": {
      "text/plain": [
       "617"
      ]
     },
     "execution_count": 103,
     "metadata": {},
     "output_type": "execute_result"
    }
   ],
   "source": [
    "num_movies"
   ]
  },
  {
   "cell_type": "code",
   "execution_count": 105,
   "id": "757fc412",
   "metadata": {},
   "outputs": [
    {
     "data": {
      "text/plain": [
       "9035"
      ]
     },
     "execution_count": 105,
     "metadata": {},
     "output_type": "execute_result"
    }
   ],
   "source": [
    "movie_df.select('user_id').distinct().count()"
   ]
  },
  {
   "cell_type": "code",
   "execution_count": 106,
   "id": "d4423817",
   "metadata": {},
   "outputs": [
    {
     "data": {
      "text/plain": [
       "5353"
      ]
     },
     "execution_count": 106,
     "metadata": {},
     "output_type": "execute_result"
    }
   ],
   "source": [
    "movie_df.select('user_name').distinct().count()"
   ]
  },
  {
   "cell_type": "code",
   "execution_count": 110,
   "id": "d9fc3cfc",
   "metadata": {},
   "outputs": [],
   "source": [
    "from pyspark.sql.functions import udf\n",
    "from pyspark.sql.functions import col\n",
    "from textblob import TextBlob\n",
    "def check_polarity(text):\n",
    "    blob = TextBlob(text)\n",
    "    polarity = blob.sentiment.polarity\n",
    "    return polarity\n",
    "check_polarity_udf = udf(check_polarity)"
   ]
  },
  {
   "cell_type": "code",
   "execution_count": 120,
   "id": "4bdef173",
   "metadata": {},
   "outputs": [
    {
     "data": {
      "text/plain": [
       "304413"
      ]
     },
     "execution_count": 120,
     "metadata": {},
     "output_type": "execute_result"
    }
   ],
   "source": [
    "new_df = movie_df.na.drop()\n",
    "new_df.count()"
   ]
  },
  {
   "cell_type": "code",
   "execution_count": 126,
   "id": "b1b1f977",
   "metadata": {},
   "outputs": [],
   "source": [
    "# Separate the Karens' lines from everyone elses\n",
    "karen_lines = new_df.filter(new_df.user_name == 'KAREN').withColumn(\"Polarity\", check_polarity_udf(col(\"line\"))).select('Polarity').collect()\n",
    "everyone_else_lines = new_df.filter(new_df.user_name != 'KAREN').withColumn(\"Polarity\", check_polarity_udf(col(\"line\"))).select('Polarity').collect()"
   ]
  },
  {
   "cell_type": "code",
   "execution_count": 127,
   "id": "24ddce93",
   "metadata": {},
   "outputs": [
    {
     "name": "stdout",
     "output_type": "stream",
     "text": [
      "0.033574422522060186\n"
     ]
    }
   ],
   "source": [
    "sum = 0\n",
    "count = 0\n",
    "for line in karen_lines:\n",
    "    sum = sum + float(line.Polarity)\n",
    "    count = count + 1\n",
    "print(sum/count)"
   ]
  },
  {
   "cell_type": "code",
   "execution_count": 128,
   "id": "4be083b7",
   "metadata": {},
   "outputs": [
    {
     "name": "stdout",
     "output_type": "stream",
     "text": [
      "0.04184540409561621\n"
     ]
    }
   ],
   "source": [
    "sum = 0\n",
    "count = 0\n",
    "for line in everyone_else_lines:\n",
    "    sum = sum + float(line.Polarity)\n",
    "    count = count + 1\n",
    "print(sum/count)"
   ]
  },
  {
   "cell_type": "code",
   "execution_count": null,
   "id": "a3bdadca",
   "metadata": {},
   "outputs": [],
   "source": []
  }
 ],
 "metadata": {
  "kernelspec": {
   "display_name": "Python 3",
   "language": "python",
   "name": "python3"
  },
  "language_info": {
   "codemirror_mode": {
    "name": "ipython",
    "version": 3
   },
   "file_extension": ".py",
   "mimetype": "text/x-python",
   "name": "python",
   "nbconvert_exporter": "python",
   "pygments_lexer": "ipython3",
   "version": "3.8.8"
  }
 },
 "nbformat": 4,
 "nbformat_minor": 5
}
